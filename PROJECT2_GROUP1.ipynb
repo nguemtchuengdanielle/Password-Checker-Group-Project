{
 "cells": [
  {
   "cell_type": "markdown",
   "id": "28d3edc6",
   "metadata": {},
   "source": [
    "\n",
    "<center>\n",
    "<h1><font size=\"+3\">PROGRAMMING WITH PYTHON </font></h1>\n",
    "</center>\n",
    "\n",
    "---\n",
    "<center>\n",
    "<H1 style=\"color:black\">\n",
    "PROJECT  n◦ 2\n",
    "</H1>\n",
    "</center>\n",
    "\n",
    "---\n",
    "\n",
    "<center>\n",
    "<H1 style=\"color:black\">\n",
    "Check a Password\n",
    "</H1>\n",
    "</center>"
   ]
  },
  {
   "cell_type": "markdown",
   "id": "1605a7e7",
   "metadata": {},
   "source": [
    " ### 1. Password Length Check\n",
    " \n",
    "- This function verifies that the password contains between 8 and 64 characters.\n",
    "- It returns an error message if the condition is not met.\n"
   ]
  },
  {
   "cell_type": "code",
   "execution_count": 1,
   "id": "26468446",
   "metadata": {},
   "outputs": [],
   "source": [
    "def length(password):\n",
    "    errors = []\n",
    "    if not (8 <= len(password) <= 64):\n",
    "        errors.append(\"The password must be between 8 and 64 characters long.\")\n",
    "    return errors\n",
    "\n",
    "\n",
    "#password = input(\"Please enter a password to check: \")\n",
    "    \n",
    "#length(password)"
   ]
  },
  {
   "cell_type": "markdown",
   "id": "22e78179",
   "metadata": {},
   "source": [
    "------\n"
   ]
  },
  {
   "cell_type": "markdown",
   "id": "e6ca0c4d",
   "metadata": {},
   "source": [
    "## 2. Space Check\n",
    "-  This function verifies that the password does not contain any spaces.\n",
    "- It returns an error message if a space is detected.\n"
   ]
  },
  {
   "cell_type": "code",
   "execution_count": 2,
   "id": "59ce3344",
   "metadata": {},
   "outputs": [],
   "source": [
    "def no_spaces(password):\n",
    "    errors = []\n",
    "    if \" \" in password:\n",
    "        errors.append(\"The password must not contain any spaces.\")\n",
    "    return errors\n",
    "\n",
    "\n",
    "\n",
    "#password = input(\"Please enter a password to check: \")\n",
    "    \n",
    "#no_spaces(password)\n"
   ]
  },
  {
   "cell_type": "markdown",
   "id": "83a5480a",
   "metadata": {},
   "source": [
    "-----"
   ]
  },
  {
   "cell_type": "markdown",
   "id": "125a56ae",
   "metadata": {},
   "source": [
    "## 3. Character Type and Composition Check\n",
    "This function verifies that the password contains:\n",
    " - at least one uppercase letter\n",
    " - at least one lowercase letter\n",
    " - at least one digit\n",
    " - at least one special character\n",
    "It also rejects passwords that are entirely alphabetic or entirely numeric.\n"
   ]
  },
  {
   "cell_type": "code",
   "execution_count": 3,
   "id": "cf549c2b",
   "metadata": {},
   "outputs": [
    {
     "name": "stdout",
     "output_type": "stream",
     "text": [
      "['The password must contain at least one uppercase letter.', 'The password must contain at least one special character from: !@#$%^&*()-_+=[]{};:’¨,<.>/?\\\\|‘£°§']\n"
     ]
    }
   ],
   "source": [
    "def character_requirements(password):\n",
    "    errors = []\n",
    "    special_chars = \"!@#$%^&*()-_+=[]{};:’¨,<.>/?\\\\|‘£°§\"\n",
    "    \n",
    "    has_uppercase = False\n",
    "    has_lowercase = False\n",
    "    has_digit = False\n",
    "    has_special = False\n",
    "\n",
    "    for char in password:\n",
    "        if 'A' <= char <= 'Z':\n",
    "            has_uppercase = True\n",
    "        elif 'a' <= char <= 'z':\n",
    "            has_lowercase = True\n",
    "        elif '0' <= char <= '9':\n",
    "            has_digit = True\n",
    "        elif char in special_chars:\n",
    "            has_special = True\n",
    "\n",
    "    if not has_uppercase:\n",
    "        errors.append(\"The password must contain at least one uppercase letter.\")\n",
    "    if not has_lowercase:\n",
    "        errors.append(\"The password must contain at least one lowercase letter.\")\n",
    "    if not has_digit:\n",
    "        errors.append(\"The password must contain at least one digit.\")\n",
    "    if not has_special:\n",
    "        errors.append(f\"The password must contain at least one special character from: {special_chars}\")\n",
    "\n",
    "    is_entirely_alpha = (has_uppercase or has_lowercase) and not has_digit and not has_special\n",
    "    is_entirely_numeric = has_digit and not has_uppercase and not has_lowercase and not has_special\n",
    "\n",
    "    if is_entirely_alpha:\n",
    "        errors.append(\"The password cannot be entirely alphabetic.\")\n",
    "    if is_entirely_numeric:\n",
    "        errors.append(\"The password cannot be entirely numeric.\")\n",
    "    return errors\n",
    "\n",
    "\n",
    "print(character_requirements(\"abc123\"))\n"
   ]
  },
  {
   "cell_type": "markdown",
   "id": "9a9f8172",
   "metadata": {},
   "source": [
    "----"
   ]
  },
  {
   "cell_type": "markdown",
   "id": "17e5b1bf",
   "metadata": {},
   "source": [
    "##  4.Repeated Characters Check\n",
    "- This function rejects passwords that contain three identical characters in a row.\n",
    "\n"
   ]
  },
  {
   "cell_type": "code",
   "execution_count": 4,
   "id": "2e6dddb6",
   "metadata": {},
   "outputs": [
    {
     "name": "stdout",
     "output_type": "stream",
     "text": [
      "['The password contains three identical characters in a row.']\n"
     ]
    }
   ],
   "source": [
    "def consecutive_characters(password):\n",
    "    errors = []\n",
    "    if len(password) >= 3:\n",
    "        for i in range(len(password) - 2):\n",
    "            if password[i] == password[i + 1] and password[i + 1] == password[i + 2]:\n",
    "                errors.append(\"The password contains three identical characters in a row.\")\n",
    "                break\n",
    "    return errors\n",
    "\n",
    "print(consecutive_characters(\"222assounma\"))"
   ]
  },
  {
   "cell_type": "markdown",
   "id": "c95ab7a4",
   "metadata": {},
   "source": [
    "-----"
   ]
  },
  {
   "cell_type": "markdown",
   "id": "581f0bee",
   "metadata": {},
   "source": [
    "## 5. Common Password Check\n",
    "- This function rejects passwords that are too commonly used and therefore insecure.\n"
   ]
  },
  {
   "cell_type": "code",
   "execution_count": 5,
   "id": "e26a84b2",
   "metadata": {},
   "outputs": [
    {
     "name": "stdout",
     "output_type": "stream",
     "text": [
      "['The password is too common and not secure.']\n"
     ]
    }
   ],
   "source": [
    "def commonly_used_password(password):\n",
    "    errors = []\n",
    "    INSECURE_PASSWORDS = [\"password\", \"123456\", \"qwerty\", \"letmein\", \"password1\", \"abcd\"]\n",
    "    if password.lower() in INSECURE_PASSWORDS:\n",
    "        errors.append(\"The password is too common and not secure.\")\n",
    "    return errors\n",
    "\n",
    "\n",
    "print(commonly_used_password( \"qwerty\"))"
   ]
  },
  {
   "cell_type": "markdown",
   "id": "f94376c1",
   "metadata": {},
   "source": [
    "------"
   ]
  },
  {
   "cell_type": "markdown",
   "id": "93e8b87e",
   "metadata": {},
   "source": [
    "#  Main Validation Function\n",
    "- This function checks the password against all defined rules.\n",
    "-  It returns True if the password is valid, and False otherwise.\n",
    "- If invalid, it prints all detected errors to the console.\n"
   ]
  },
  {
   "cell_type": "code",
   "execution_count": 6,
   "id": "58c9cf21",
   "metadata": {},
   "outputs": [
    {
     "name": "stdout",
     "output_type": "stream",
     "text": [
      "give a password: Danie@1FATOU\n",
      "Password accepted: all rules are satisfied.\n",
      "True\n"
     ]
    }
   ],
   "source": [
    "def check_password(password):\n",
    "    all_errors = []\n",
    "\n",
    "    all_errors += length(password)\n",
    "    all_errors += no_spaces(password)\n",
    "    all_errors += character_requirements(password)\n",
    "    all_errors += consecutive_characters(password)\n",
    "    all_errors += commonly_used_password(password)\n",
    "\n",
    "    if not all_errors:\n",
    "        print(\"Password accepted: all rules are satisfied.\")\n",
    "        return True\n",
    "    else:\n",
    "        print(\"Password rejected. The following errors were found:\")\n",
    "        for error in all_errors:\n",
    "            print(f\"    {error}\")\n",
    "        return False\n",
    "\n",
    "password = input(\"give a password: \")\n",
    "while check_password(password) == False:\n",
    "    print(False)\n",
    "    password = input(\"give another password: \")\n",
    "print(True)\n",
    "\n",
    "                     \n"
   ]
  },
  {
   "cell_type": "markdown",
   "id": "ecf9a4e5",
   "metadata": {},
   "source": [
    "------"
   ]
  },
  {
   "cell_type": "markdown",
   "id": "c8ac2624",
   "metadata": {},
   "source": [
    "-----\n",
    "\n",
    "\n",
    "# This section Interface .\n",
    "- All labels, messages, and criteria are translated for users.\n"
   ]
  },
  {
   "cell_type": "code",
   "execution_count": 9,
   "id": "2bd43bfd",
   "metadata": {},
   "outputs": [
    {
     "name": "stdout",
     "output_type": "stream",
     "text": [
      "Password accepted: all rules are satisfied.\n",
      "Password rejected. The following errors were found:\n",
      "    The password must be between 8 and 64 characters long.\n",
      "    The password must contain at least one digit.\n",
      "    The password must contain at least one special character from: !@#$%^&*()-_+=[]{};:’¨,<.>/?\\|‘£°§\n",
      "    The password cannot be entirely alphabetic.\n",
      "Password rejected. The following errors were found:\n",
      "    The password must be between 8 and 64 characters long.\n",
      "    The password must contain at least one uppercase letter.\n",
      "    The password must contain at least one digit.\n",
      "    The password must contain at least one special character from: !@#$%^&*()-_+=[]{};:’¨,<.>/?\\|‘£°§\n",
      "    The password cannot be entirely alphabetic.\n",
      "Password rejected. The following errors were found:\n",
      "    The password contains three identical characters in a row.\n"
     ]
    }
   ],
   "source": [
    "import tkinter as tk\n",
    "from tkinter import messagebox\n",
    "\n",
    "\n",
    "def analyze_conditions(password):\n",
    "    conditions = {\n",
    "        \"Length (8–64 characters)\": length(password) == [],\n",
    "        \"No spaces\": no_spaces(password) == [],\n",
    "        \"Uppercase, lowercase, digit, special character\": character_requirements(password) == [],\n",
    "        \"Not entirely alphabetic or numeric\": not (\n",
    "            \"The password cannot be entirely alphabetic.\" in character_requirements(password)\n",
    "            or \"The password cannot be entirely numeric.\" in character_requirements(password)\n",
    "        ),\n",
    "        \"No repeated characters\": consecutive_characters(password) == [],\n",
    "        \"Not a common password\": commonly_used_password(password) == [],\n",
    "    }\n",
    "    return conditions\n",
    "\n",
    "def verify(event=None):\n",
    "    pwd = entry.get()\n",
    "    conditions = analyze_conditions(pwd)\n",
    "    for i, (text, ok) in enumerate(conditions.items()):\n",
    "        labels[i].config(fg=\"green\" if ok else \"red\")\n",
    "    return pwd\n",
    "\n",
    "def validate():\n",
    "    pwd = verify()\n",
    "    result = check_password(pwd)\n",
    "    result_label.config(text=str(result), fg=\"green\" if result else \"red\")  \n",
    "    if result:\n",
    "        messagebox.showinfo(\"Result\", \"Password is valid and secure.\")\n",
    "    else:\n",
    "        retry = messagebox.askretrycancel(\n",
    "            \"Invalid Password\",\n",
    "            \"The password is invalid!\\nPlease follow the guidelines.\\nWould you like to try again?\"\n",
    "        )\n",
    "        if retry:\n",
    "            entry.delete(0, tk.END)\n",
    "        else:\n",
    "            root.destroy()\n",
    "\n",
    "def toggle_password():\n",
    "    if show_var.get():\n",
    "        entry.config(show=\"\")\n",
    "    else:\n",
    "        entry.config(show=\"*\")\n",
    "\n",
    "root = tk.Tk()\n",
    "root.title(\"Password Checker\")\n",
    "root.geometry(\"500x400\")\n",
    "\n",
    "tk.Label(root, text=\"Enter your password:\", font=(\"Arial\", 12)).pack(pady=10)\n",
    "\n",
    "entry_frame = tk.Frame(root)\n",
    "entry_frame.pack()\n",
    "\n",
    "entry = tk.Entry(entry_frame, show=\"*\", width=30)\n",
    "entry.pack(side=\"left\", padx=(0, 10))\n",
    "\n",
    "show_var = tk.BooleanVar()\n",
    "check = tk.Checkbutton(entry_frame, text=\"Show password\", variable=show_var, command=toggle_password)\n",
    "check.pack(side=\"right\")\n",
    "\n",
    "criteria = [\n",
    "    \"Length (8–64 characters)\",\n",
    "    \"No spaces\",\n",
    "    \"Uppercase, lowercase, digit, special character\",\n",
    "    \"Not entirely alphabetic or numeric\",\n",
    "    \"No repeated characters\",\n",
    "    \"Not a common password\"\n",
    "]\n",
    "\n",
    "labels = []\n",
    "for criterion in criteria:\n",
    "    lbl = tk.Label(root, text=f\" {criterion}\", font=(\"Arial\", 11), fg=\"red\", anchor=\"w\")\n",
    "    lbl.pack(fill=\"x\", padx=20)\n",
    "    labels.append(lbl)\n",
    "\n",
    "btn = tk.Button(root, text=\"Validate\", font=(\"Arial\", 12), command=validate)\n",
    "btn.pack(pady=15)\n",
    "\n",
    "result_label = tk.Label(root, text=\"\", font=(\"Arial\", 12, \"bold\"))\n",
    "result_label.pack(pady=5)\n",
    "\n",
    "entry.bind(\"<KeyRelease>\", verify)\n",
    "\n",
    "root.mainloop()\n"
   ]
  },
  {
   "cell_type": "code",
   "execution_count": null,
   "id": "bd6f50c9",
   "metadata": {},
   "outputs": [],
   "source": []
  }
 ],
 "metadata": {
  "kernelspec": {
   "display_name": "Python 3 (ipykernel)",
   "language": "python",
   "name": "python3"
  },
  "language_info": {
   "codemirror_mode": {
    "name": "ipython",
    "version": 3
   },
   "file_extension": ".py",
   "mimetype": "text/x-python",
   "name": "python",
   "nbconvert_exporter": "python",
   "pygments_lexer": "ipython3",
   "version": "3.9.12"
  }
 },
 "nbformat": 4,
 "nbformat_minor": 5
}
